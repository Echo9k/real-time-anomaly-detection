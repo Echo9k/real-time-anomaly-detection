{
 "cells": [
  {
   "cell_type": "markdown",
   "metadata": {},
   "source": [
    "Import Libraries and Load Datasets:"
   ]
  },
  {
   "cell_type": "code",
   "execution_count": null,
   "metadata": {},
   "outputs": [],
   "source": [
    "import pandas as pd\n",
    "from IPython.display import display\n",
    "import plotly.express as px\n",
    "\n",
    "\n",
    "\n",
    "train_df = pd.read_csv('/src/data/raw/train.csv')\n",
    "test_df = pd.read_csv('/src/data/raw/test.csv')"
   ]
  },
  {
   "cell_type": "markdown",
   "metadata": {},
   "source": [
    "Data Exploration"
   ]
  },
  {
   "cell_type": "code",
   "execution_count": null,
   "metadata": {},
   "outputs": [],
   "source": [
    "Train data"
   ]
  },
  {
   "cell_type": "code",
   "execution_count": null,
   "metadata": {
    "vscode": {
     "languageId": "plaintext"
    }
   },
   "outputs": [],
   "source": [
    "display(train_df.shape,\n",
    "        train_df.sample(3),\n",
    "        train_df.describe())"
   ]
  },
  {
   "cell_type": "code",
   "execution_count": null,
   "metadata": {},
   "outputs": [],
   "source": [
    "Test data"
   ]
  },
  {
   "cell_type": "code",
   "execution_count": null,
   "metadata": {},
   "outputs": [],
   "source": [
    "test_df.shape\n",
    "\n",
    "test_df.sample(3)\n",
    "\n",
    "test_df.describe()"
   ]
  },
  {
   "cell_type": "code",
   "execution_count": null,
   "metadata": {},
   "outputs": [],
   "source": [
    "print(f\"Test data is about {train_df.shape[0]/test_df.shape[0]:.1f} times the train data\")"
   ]
  },
  {
   "cell_type": "markdown",
   "metadata": {},
   "source": [
    "Data Visualization"
   ]
  },
  {
   "cell_type": "code",
   "execution_count": null,
   "metadata": {},
   "outputs": [],
   "source": [
    "from plotly.subplots import make_subplots\n",
    "import plotly.graph_objects as go"
   ]
  },
  {
   "cell_type": "code",
   "execution_count": null,
   "metadata": {},
   "outputs": [],
   "source": [
    "# Create a figure with 3 rows and 2 columns\n",
    "fig = make_subplots(\n",
    "    rows=3, cols=2,\n",
    "    subplot_titles=('Scatter Plot', '', 'Histogram of Mean', 'Histogram of SD', 'Box Plot of Mean', 'Box Plot of SD')\n",
    ")\n",
    "\n",
    "# Scatter Plot\n",
    "fig.add_trace(\n",
    "    go.Scatter(x=train_df['mean'], y=train_df['sd'], mode='markers'),\n",
    "    row=1, col=1\n",
    ")\n",
    "\n",
    "# Histogram for 'mean' feature\n",
    "fig.add_trace(\n",
    "    go.Histogram(x=train_df['mean'], nbinsx=20),\n",
    "    row=2, col=1\n",
    ")\n",
    "\n",
    "# Histogram for 'sd' feature\n",
    "fig.add_trace(\n",
    "    go.Histogram(x=train_df['sd'], nbinsx=20),\n",
    "    row=2, col=2\n",
    ")\n",
    "\n",
    "# Box Plot for 'mean' feature\n",
    "fig.add_trace(\n",
    "    go.Box(y=train_df['mean']),\n",
    "    row=3, col=1\n",
    ")\n",
    "\n",
    "# Box Plot for 'sd' feature\n",
    "fig.add_trace(\n",
    "    go.Box(y=train_df['sd']),\n",
    "    row=3, col=2\n",
    ")\n",
    "\n",
    "# Update layout\n",
    "fig.update_layout(height=900, width=800, title_text=\"Combined Visualizations of Mean and SD Features\")\n",
    "fig.show()"
   ]
  }
 ],
 "metadata": {
  "language_info": {
   "name": "python"
  }
 },
 "nbformat": 4,
 "nbformat_minor": 2
}
